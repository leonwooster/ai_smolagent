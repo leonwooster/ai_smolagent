{
  "cells": [
    {
      "cell_type": "markdown",
      "metadata": {
        "id": "Pi9CF0391ARI"
      },
      "source": [
        "# Writing actions as code snippets or JSON blobs\n",
        "\n",
        "This notebook is part of the [Hugging Face Agents Course](https://www.hf.co/learn/agents-course), a free Course from beginner to expert, where you learn to build Agents.\n",
        "\n",
        "![Agents course share](https://huggingface.co/datasets/agents-course/course-images/resolve/main/en/communication/share.png)"
      ]
    },
    {
      "cell_type": "markdown",
      "metadata": {
        "id": "9gsYky7F1GzT"
      },
      "source": [
        "## Let's install the dependencies and login to our HF account to access the Inference API\n",
        "\n",
        "If you haven't installed `smolagents` yet, you can do so by running the following command:"
      ]
    },
    {
      "cell_type": "code",
      "execution_count": null,
      "metadata": {
        "id": "MoFopncp0pnJ"
      },
      "outputs": [],
      "source": [
        "!pip install smolagents -U"
      ]
    },
    {
      "cell_type": "markdown",
      "metadata": {
        "id": "cH-4W1GhYL4T"
      },
      "source": [
        "Let's also login to the Hugging Face Hub to have access to the Inference API."
      ]
    },
    {
      "cell_type": "code",
      "execution_count": 1,
      "metadata": {
        "id": "TFTc-ry70y1f"
      },
      "outputs": [
        {
          "data": {
            "application/vnd.jupyter.widget-view+json": {
              "model_id": "9c329d7c602848b8a657e89ede45f3b6",
              "version_major": 2,
              "version_minor": 0
            },
            "text/plain": [
              "VBox(children=(HTML(value='<center> <img\\nsrc=https://huggingface.co/front/assets/huggingface_logo-noborder.sv…"
            ]
          },
          "metadata": {},
          "output_type": "display_data"
        }
      ],
      "source": [
        "from huggingface_hub import notebook_login\n",
        "\n",
        "notebook_login()"
      ]
    },
    {
      "cell_type": "markdown",
      "metadata": {
        "id": "ekKxaZrd1HlB"
      },
      "source": [
        "## Selecting a Playlist for the Party Using `smolagents` and a `ToolCallingAgent`\n",
        "\n",
        "Let's revisit the previous example where Alfred started party preparations, but this time we'll use a `ToolCallingAgent` to highlight the difference. We'll build an agent that can search the web using DuckDuckGo, just like in our Code Agent example. The only difference is the agent type - the framework handles everything else:"
      ]
    },
    {
      "cell_type": "code",
      "execution_count": 2,
      "metadata": {
        "colab": {
          "base_uri": "https://localhost:8080/",
          "height": 1000
        },
        "id": "6IInDOUN01sP",
        "outputId": "e49f2360-d377-4ed8-b7ae-8da4a3e3757b"
      },
      "outputs": [
        {
          "data": {
            "text/html": [
              "<pre style=\"white-space:pre;overflow-x:auto;line-height:normal;font-family:Menlo,'DejaVu Sans Mono',consolas,'Courier New',monospace\"><span style=\"color: #d4b702; text-decoration-color: #d4b702\">╭──────────────────────────────────────────────────── </span><span style=\"color: #d4b702; text-decoration-color: #d4b702; font-weight: bold\">New run</span><span style=\"color: #d4b702; text-decoration-color: #d4b702\"> ────────────────────────────────────────────────────╮</span>\n",
              "<span style=\"color: #d4b702; text-decoration-color: #d4b702\">│</span>                                                                                                                 <span style=\"color: #d4b702; text-decoration-color: #d4b702\">│</span>\n",
              "<span style=\"color: #d4b702; text-decoration-color: #d4b702\">│</span> <span style=\"font-weight: bold\">Search for the best music recommendations for a party at the Wayne's mansion.</span>                                   <span style=\"color: #d4b702; text-decoration-color: #d4b702\">│</span>\n",
              "<span style=\"color: #d4b702; text-decoration-color: #d4b702\">│</span>                                                                                                                 <span style=\"color: #d4b702; text-decoration-color: #d4b702\">│</span>\n",
              "<span style=\"color: #d4b702; text-decoration-color: #d4b702\">╰─ InferenceClientModel - Qwen/Qwen2.5-Coder-32B-Instruct ────────────────────────────────────────────────────────╯</span>\n",
              "</pre>\n"
            ],
            "text/plain": [
              "\u001b[38;2;212;183;2m╭─\u001b[0m\u001b[38;2;212;183;2m───────────────────────────────────────────────────\u001b[0m\u001b[38;2;212;183;2m \u001b[0m\u001b[1;38;2;212;183;2mNew run\u001b[0m\u001b[38;2;212;183;2m \u001b[0m\u001b[38;2;212;183;2m───────────────────────────────────────────────────\u001b[0m\u001b[38;2;212;183;2m─╮\u001b[0m\n",
              "\u001b[38;2;212;183;2m│\u001b[0m                                                                                                                 \u001b[38;2;212;183;2m│\u001b[0m\n",
              "\u001b[38;2;212;183;2m│\u001b[0m \u001b[1mSearch for the best music recommendations for a party at the Wayne's mansion.\u001b[0m                                   \u001b[38;2;212;183;2m│\u001b[0m\n",
              "\u001b[38;2;212;183;2m│\u001b[0m                                                                                                                 \u001b[38;2;212;183;2m│\u001b[0m\n",
              "\u001b[38;2;212;183;2m╰─\u001b[0m\u001b[38;2;212;183;2m InferenceClientModel - Qwen/Qwen2.5-Coder-32B-Instruct \u001b[0m\u001b[38;2;212;183;2m───────────────────────────────────────────────────────\u001b[0m\u001b[38;2;212;183;2m─╯\u001b[0m\n"
            ]
          },
          "metadata": {},
          "output_type": "display_data"
        },
        {
          "data": {
            "text/html": [
              "<pre style=\"white-space:pre;overflow-x:auto;line-height:normal;font-family:Menlo,'DejaVu Sans Mono',consolas,'Courier New',monospace\"><span style=\"color: #d4b702; text-decoration-color: #d4b702\">━━━━━━━━━━━━━━━━━━━━━━━━━━━━━━━━━━━━━━━━━━━━━━━━━━━━━ </span><span style=\"font-weight: bold\">Step 1</span><span style=\"color: #d4b702; text-decoration-color: #d4b702\"> ━━━━━━━━━━━━━━━━━━━━━━━━━━━━━━━━━━━━━━━━━━━━━━━━━━━━━━</span>\n",
              "</pre>\n"
            ],
            "text/plain": [
              "\u001b[38;2;212;183;2m━━━━━━━━━━━━━━━━━━━━━━━━━━━━━━━━━━━━━━━━━━━━━━━━━━━━━ \u001b[0m\u001b[1mStep 1\u001b[0m\u001b[38;2;212;183;2m ━━━━━━━━━━━━━━━━━━━━━━━━━━━━━━━━━━━━━━━━━━━━━━━━━━━━━━\u001b[0m\n"
            ]
          },
          "metadata": {},
          "output_type": "display_data"
        },
        {
          "data": {
            "text/html": [
              "<pre style=\"white-space:pre;overflow-x:auto;line-height:normal;font-family:Menlo,'DejaVu Sans Mono',consolas,'Courier New',monospace\">╭─────────────────────────────────────────────────────────────────────────────────────────────────────────────────╮\n",
              "│ Calling tool: 'web_search' with arguments: {'query': \"best music recommendations for a party at Wayne's         │\n",
              "│ mansion\"}                                                                                                       │\n",
              "╰─────────────────────────────────────────────────────────────────────────────────────────────────────────────────╯\n",
              "</pre>\n"
            ],
            "text/plain": [
              "╭─────────────────────────────────────────────────────────────────────────────────────────────────────────────────╮\n",
              "│ Calling tool: 'web_search' with arguments: {'query': \"best music recommendations for a party at Wayne's         │\n",
              "│ mansion\"}                                                                                                       │\n",
              "╰─────────────────────────────────────────────────────────────────────────────────────────────────────────────────╯\n"
            ]
          },
          "metadata": {},
          "output_type": "display_data"
        },
        {
          "data": {
            "text/html": [
              "<pre style=\"white-space:pre;overflow-x:auto;line-height:normal;font-family:Menlo,'DejaVu Sans Mono',consolas,'Courier New',monospace\">Observations: ## Search Results\n",
              "\n",
              "|Wayne's World (film)](https://en.wikipedia.org/wiki/Wayne's_World_(film))\n",
              "Wayne's World is a 1992 American comedy film directed by Penelope Spheeris. It was produced by Lorne Michaels and \n",
              "written by Mike Myers and Bonnie and Terry ...\n",
              "\n",
              "|Bohemian Rhapsody (From \"Wayne's World\")](https://open.spotify.com/track/5CkQx6M8hCVdQSQHuDvZfT)\n",
              "Bohemian Rhapsody (From \"Wayne's World \"). Movie Soundtrack All Stars. Best Songs from Buddy Movies20156:10. Sign \n",
              "in to see lyrics and listen to the full track.\n",
              "\n",
              "|What are some good tracks for house parties?](https://www.quora.com/What-are-some-good-tracks-for-house-parties)\n",
              "The Way You Move- OutKast Bad Boys - Inner Circle Party Rock Anthem- LMFAO Three Little Birds- Ziggy Marley and \n",
              "Sean Paul Feel So Close- ...\n",
              "\n",
              "|Revisiting Wayne's World, A Rock'n'Roll Party That Still \n",
              "...](https://pitchfork.com/thepitch/revisiting-waynes-world-a-rocknroll-party-that-still-feels-familiar/)\n",
              "7 May 2020 — Wayne's World plays like its own greatest hits set , a series of nonstop punchlines woven through a \n",
              "winking narrative about two rockers going ...\n",
              "\n",
              "|Fountains of Wayne's Adam Schlesinger: 20 Essential \n",
              "Songs](https://www.rollingstone.com/music/music-features/adam-schlesinger-fountains-of-wayne-essential-songs-976093\n",
              "/)\n",
              "1 Apr 2020 — 20 of the best songs by Fountains of Wayne's Adam Schlesinger, from \" Stacy's Mom \" to \"That Thing You\n",
              "Do\" and beyond.\n",
              "\n",
              "|Wayne's world party time!!! A good day \n",
              "there.](https://www.facebook.com/groups/228800539437183/posts/1089172650066630/)\n",
              "Great weather, great people, great dancers, great staff, (hopefully) great music !! ... It's finally time for \n",
              "Friday Night House Party!\n",
              "\n",
              "|What bands or songs Robert's Bruce Wayne listen \n",
              "to](https://www.reddit.com/r/TheBatmanFilm/comments/tib5gx/what_bands_or_songs_roberts_bruce_wayne_listen_to/)\n",
              "Definitely listens to Interpol and Smashing Pumpkins .\n",
              "\n",
              "|Dream Weaver (From \"Wayne's World\") - TMC Movie Tunez](https://open.spotify.com/track/5aL3IwlY4ddNMY02RXulxi)\n",
              "Recommended based on this song ; Dream Weaver Spitfire ; You've Made Me So Very HappyThe Star-Lord's ; Drift \n",
              "AwayThe Capeside Freshman ; Kiss You All OverStill a ...\n",
              "\n",
              "|Late night spin of Wayne's early albums](https://www.facebook.com/groups/real80sccm/posts/3929253647316839/)\n",
              "As the hype sticker indicates…”Friend of a Wounded Heart”, “Watercolor Ponies”, “Material Magic”, “Rose Colored \n",
              "Glasses”, &amp; “Would I Know You” ...\n",
              "\n",
              "|Some Good Times at Davey Wayne's - love, \n",
              "Maddily](https://lovemaddily.com/blog/ddily.com/2015/05/some-good-times-at-davey-waynes.html)\n",
              "16 May 2015 — With songs like \" Highway to Hell,\" and other memorable 70's rock dance and sing-a-long hits , it was\n",
              "the perfect end to a full 1970's experience.\n",
              "</pre>\n"
            ],
            "text/plain": [
              "Observations: ## Search Results\n",
              "\n",
              "|Wayne's World (film)](https://en.wikipedia.org/wiki/Wayne's_World_(film))\n",
              "Wayne's World is a 1992 American comedy film directed by Penelope Spheeris. It was produced by Lorne Michaels and \n",
              "written by Mike Myers and Bonnie and Terry ...\n",
              "\n",
              "|Bohemian Rhapsody (From \"Wayne's World\")](https://open.spotify.com/track/5CkQx6M8hCVdQSQHuDvZfT)\n",
              "Bohemian Rhapsody (From \"Wayne's World \"). Movie Soundtrack All Stars. Best Songs from Buddy Movies20156:10. Sign \n",
              "in to see lyrics and listen to the full track.\n",
              "\n",
              "|What are some good tracks for house parties?](https://www.quora.com/What-are-some-good-tracks-for-house-parties)\n",
              "The Way You Move- OutKast Bad Boys - Inner Circle Party Rock Anthem- LMFAO Three Little Birds- Ziggy Marley and \n",
              "Sean Paul Feel So Close- ...\n",
              "\n",
              "|Revisiting Wayne's World, A Rock'n'Roll Party That Still \n",
              "...](https://pitchfork.com/thepitch/revisiting-waynes-world-a-rocknroll-party-that-still-feels-familiar/)\n",
              "7 May 2020 — Wayne's World plays like its own greatest hits set , a series of nonstop punchlines woven through a \n",
              "winking narrative about two rockers going ...\n",
              "\n",
              "|Fountains of Wayne's Adam Schlesinger: 20 Essential \n",
              "Songs](https://www.rollingstone.com/music/music-features/adam-schlesinger-fountains-of-wayne-essential-songs-976093\n",
              "/)\n",
              "1 Apr 2020 — 20 of the best songs by Fountains of Wayne's Adam Schlesinger, from \" Stacy's Mom \" to \"That Thing You\n",
              "Do\" and beyond.\n",
              "\n",
              "|Wayne's world party time!!! A good day \n",
              "there.](https://www.facebook.com/groups/228800539437183/posts/1089172650066630/)\n",
              "Great weather, great people, great dancers, great staff, (hopefully) great music !! ... It's finally time for \n",
              "Friday Night House Party!\n",
              "\n",
              "|What bands or songs Robert's Bruce Wayne listen \n",
              "to](https://www.reddit.com/r/TheBatmanFilm/comments/tib5gx/what_bands_or_songs_roberts_bruce_wayne_listen_to/)\n",
              "Definitely listens to Interpol and Smashing Pumpkins .\n",
              "\n",
              "|Dream Weaver (From \"Wayne's World\") - TMC Movie Tunez](https://open.spotify.com/track/5aL3IwlY4ddNMY02RXulxi)\n",
              "Recommended based on this song ; Dream Weaver Spitfire ; You've Made Me So Very HappyThe Star-Lord's ; Drift \n",
              "AwayThe Capeside Freshman ; Kiss You All OverStill a ...\n",
              "\n",
              "|Late night spin of Wayne's early albums](https://www.facebook.com/groups/real80sccm/posts/3929253647316839/)\n",
              "As the hype sticker indicates…”Friend of a Wounded Heart”, “Watercolor Ponies”, “Material Magic”, “Rose Colored \n",
              "Glasses”, & “Would I Know You” ...\n",
              "\n",
              "|Some Good Times at Davey Wayne's - love, \n",
              "Maddily](https://lovemaddily.com/blog/ddily.com/2015/05/some-good-times-at-davey-waynes.html)\n",
              "16 May 2015 — With songs like \" Highway to Hell,\" and other memorable 70's rock dance and sing-a-long hits , it was\n",
              "the perfect end to a full 1970's experience.\n"
            ]
          },
          "metadata": {},
          "output_type": "display_data"
        },
        {
          "data": {
            "text/html": [
              "<pre style=\"white-space:pre;overflow-x:auto;line-height:normal;font-family:Menlo,'DejaVu Sans Mono',consolas,'Courier New',monospace\"><span style=\"color: #7f7f7f; text-decoration-color: #7f7f7f\">[Step 1: Duration 2.69 seconds| Input tokens: 1,190 | Output tokens: 38]</span>\n",
              "</pre>\n"
            ],
            "text/plain": [
              "\u001b[2m[Step 1: Duration 2.69 seconds| Input tokens: 1,190 | Output tokens: 38]\u001b[0m\n"
            ]
          },
          "metadata": {},
          "output_type": "display_data"
        },
        {
          "data": {
            "text/html": [
              "<pre style=\"white-space:pre;overflow-x:auto;line-height:normal;font-family:Menlo,'DejaVu Sans Mono',consolas,'Courier New',monospace\"><span style=\"color: #d4b702; text-decoration-color: #d4b702\">━━━━━━━━━━━━━━━━━━━━━━━━━━━━━━━━━━━━━━━━━━━━━━━━━━━━━ </span><span style=\"font-weight: bold\">Step 2</span><span style=\"color: #d4b702; text-decoration-color: #d4b702\"> ━━━━━━━━━━━━━━━━━━━━━━━━━━━━━━━━━━━━━━━━━━━━━━━━━━━━━━</span>\n",
              "</pre>\n"
            ],
            "text/plain": [
              "\u001b[38;2;212;183;2m━━━━━━━━━━━━━━━━━━━━━━━━━━━━━━━━━━━━━━━━━━━━━━━━━━━━━ \u001b[0m\u001b[1mStep 2\u001b[0m\u001b[38;2;212;183;2m ━━━━━━━━━━━━━━━━━━━━━━━━━━━━━━━━━━━━━━━━━━━━━━━━━━━━━━\u001b[0m\n"
            ]
          },
          "metadata": {},
          "output_type": "display_data"
        },
        {
          "data": {
            "text/html": [
              "<pre style=\"white-space:pre;overflow-x:auto;line-height:normal;font-family:Menlo,'DejaVu Sans Mono',consolas,'Courier New',monospace\">╭─────────────────────────────────────────────────────────────────────────────────────────────────────────────────╮\n",
              "│ Calling tool: 'final_answer' with arguments: {'answer': 'Based on the search results, here are some music       │\n",
              "│ recommendations for a party at Wayne\\'s mansion:\\n\\n1. **Bohemian Rhapsody** - Queen (From \"Wayne\\'s            │\n",
              "│ World\")\\n2. **The Way You Move** - OutKast\\n3. **Bad Boys** - Inner Circle\\n4. **Party Rock Anthem** -          │\n",
              "│ LMFAO\\n5. **Three Little Birds** - Ziggy Marley and Sean Paul\\n6. **Feel So Close** - LMFAO\\n7. **Dream         │\n",
              "│ Weaver** - TMC Movie Tunez\\n8. **Highway to Hell** - AC/DC\\n9. **Material Magic** - Fountains of Wayne\\n10.     │\n",
              "│ **Would I Know You** - Fountains of Wayne\\n\\nThese tracks should capture the spirit of a fun, rock\\'n\\'roll     │\n",
              "│ party reminiscent of Wayne\\'s World.'}                                                                          │\n",
              "╰─────────────────────────────────────────────────────────────────────────────────────────────────────────────────╯\n",
              "</pre>\n"
            ],
            "text/plain": [
              "╭─────────────────────────────────────────────────────────────────────────────────────────────────────────────────╮\n",
              "│ Calling tool: 'final_answer' with arguments: {'answer': 'Based on the search results, here are some music       │\n",
              "│ recommendations for a party at Wayne\\'s mansion:\\n\\n1. **Bohemian Rhapsody** - Queen (From \"Wayne\\'s            │\n",
              "│ World\")\\n2. **The Way You Move** - OutKast\\n3. **Bad Boys** - Inner Circle\\n4. **Party Rock Anthem** -          │\n",
              "│ LMFAO\\n5. **Three Little Birds** - Ziggy Marley and Sean Paul\\n6. **Feel So Close** - LMFAO\\n7. **Dream         │\n",
              "│ Weaver** - TMC Movie Tunez\\n8. **Highway to Hell** - AC/DC\\n9. **Material Magic** - Fountains of Wayne\\n10.     │\n",
              "│ **Would I Know You** - Fountains of Wayne\\n\\nThese tracks should capture the spirit of a fun, rock\\'n\\'roll     │\n",
              "│ party reminiscent of Wayne\\'s World.'}                                                                          │\n",
              "╰─────────────────────────────────────────────────────────────────────────────────────────────────────────────────╯\n"
            ]
          },
          "metadata": {},
          "output_type": "display_data"
        },
        {
          "data": {
            "text/html": [
              "<pre style=\"white-space:pre;overflow-x:auto;line-height:normal;font-family:Menlo,'DejaVu Sans Mono',consolas,'Courier New',monospace\">Observations: Based on the search results, here are some music recommendations for a party at Wayne's mansion:\n",
              "\n",
              "1. **Bohemian Rhapsody** - Queen (From \"Wayne's World\")\n",
              "2. **The Way You Move** - OutKast\n",
              "3. **Bad Boys** - Inner Circle\n",
              "4. **Party Rock Anthem** - LMFAO\n",
              "5. **Three Little Birds** - Ziggy Marley and Sean Paul\n",
              "6. **Feel So Close** - LMFAO\n",
              "7. **Dream Weaver** - TMC Movie Tunez\n",
              "8. **Highway to Hell** - AC/DC\n",
              "9. **Material Magic** - Fountains of Wayne\n",
              "10. **Would I Know You** - Fountains of Wayne\n",
              "\n",
              "These tracks should capture the spirit of a fun, rock'n'roll party reminiscent of Wayne's World.\n",
              "</pre>\n"
            ],
            "text/plain": [
              "Observations: Based on the search results, here are some music recommendations for a party at Wayne's mansion:\n",
              "\n",
              "1. **Bohemian Rhapsody** - Queen (From \"Wayne's World\")\n",
              "2. **The Way You Move** - OutKast\n",
              "3. **Bad Boys** - Inner Circle\n",
              "4. **Party Rock Anthem** - LMFAO\n",
              "5. **Three Little Birds** - Ziggy Marley and Sean Paul\n",
              "6. **Feel So Close** - LMFAO\n",
              "7. **Dream Weaver** - TMC Movie Tunez\n",
              "8. **Highway to Hell** - AC/DC\n",
              "9. **Material Magic** - Fountains of Wayne\n",
              "10. **Would I Know You** - Fountains of Wayne\n",
              "\n",
              "These tracks should capture the spirit of a fun, rock'n'roll party reminiscent of Wayne's World.\n"
            ]
          },
          "metadata": {},
          "output_type": "display_data"
        },
        {
          "data": {
            "text/html": [
              "<pre style=\"white-space:pre;overflow-x:auto;line-height:normal;font-family:Menlo,'DejaVu Sans Mono',consolas,'Courier New',monospace\"><span style=\"color: #d4b702; text-decoration-color: #d4b702; font-weight: bold\">Final answer: Based on the search results, here are some music recommendations for a party at Wayne's mansion:</span>\n",
              "\n",
              "<span style=\"color: #d4b702; text-decoration-color: #d4b702; font-weight: bold\">1. **Bohemian Rhapsody** - Queen (From \"Wayne's World\")</span>\n",
              "<span style=\"color: #d4b702; text-decoration-color: #d4b702; font-weight: bold\">2. **The Way You Move** - OutKast</span>\n",
              "<span style=\"color: #d4b702; text-decoration-color: #d4b702; font-weight: bold\">3. **Bad Boys** - Inner Circle</span>\n",
              "<span style=\"color: #d4b702; text-decoration-color: #d4b702; font-weight: bold\">4. **Party Rock Anthem** - LMFAO</span>\n",
              "<span style=\"color: #d4b702; text-decoration-color: #d4b702; font-weight: bold\">5. **Three Little Birds** - Ziggy Marley and Sean Paul</span>\n",
              "<span style=\"color: #d4b702; text-decoration-color: #d4b702; font-weight: bold\">6. **Feel So Close** - LMFAO</span>\n",
              "<span style=\"color: #d4b702; text-decoration-color: #d4b702; font-weight: bold\">7. **Dream Weaver** - TMC Movie Tunez</span>\n",
              "<span style=\"color: #d4b702; text-decoration-color: #d4b702; font-weight: bold\">8. **Highway to Hell** - AC/DC</span>\n",
              "<span style=\"color: #d4b702; text-decoration-color: #d4b702; font-weight: bold\">9. **Material Magic** - Fountains of Wayne</span>\n",
              "<span style=\"color: #d4b702; text-decoration-color: #d4b702; font-weight: bold\">10. **Would I Know You** - Fountains of Wayne</span>\n",
              "\n",
              "<span style=\"color: #d4b702; text-decoration-color: #d4b702; font-weight: bold\">These tracks should capture the spirit of a fun, rock'n'roll party reminiscent of Wayne's World.</span>\n",
              "</pre>\n"
            ],
            "text/plain": [
              "\u001b[1;38;2;212;183;2mFinal answer: Based on the search results, here are some music recommendations for a party at Wayne's mansion:\u001b[0m\n",
              "\n",
              "\u001b[1;38;2;212;183;2m1. **Bohemian Rhapsody** - Queen (From \"Wayne's World\")\u001b[0m\n",
              "\u001b[1;38;2;212;183;2m2. **The Way You Move** - OutKast\u001b[0m\n",
              "\u001b[1;38;2;212;183;2m3. **Bad Boys** - Inner Circle\u001b[0m\n",
              "\u001b[1;38;2;212;183;2m4. **Party Rock Anthem** - LMFAO\u001b[0m\n",
              "\u001b[1;38;2;212;183;2m5. **Three Little Birds** - Ziggy Marley and Sean Paul\u001b[0m\n",
              "\u001b[1;38;2;212;183;2m6. **Feel So Close** - LMFAO\u001b[0m\n",
              "\u001b[1;38;2;212;183;2m7. **Dream Weaver** - TMC Movie Tunez\u001b[0m\n",
              "\u001b[1;38;2;212;183;2m8. **Highway to Hell** - AC/DC\u001b[0m\n",
              "\u001b[1;38;2;212;183;2m9. **Material Magic** - Fountains of Wayne\u001b[0m\n",
              "\u001b[1;38;2;212;183;2m10. **Would I Know You** - Fountains of Wayne\u001b[0m\n",
              "\n",
              "\u001b[1;38;2;212;183;2mThese tracks should capture the spirit of a fun, rock'n'roll party reminiscent of Wayne's World.\u001b[0m\n"
            ]
          },
          "metadata": {},
          "output_type": "display_data"
        },
        {
          "data": {
            "text/html": [
              "<pre style=\"white-space:pre;overflow-x:auto;line-height:normal;font-family:Menlo,'DejaVu Sans Mono',consolas,'Courier New',monospace\"><span style=\"color: #7f7f7f; text-decoration-color: #7f7f7f\">[Step 2: Duration 2.87 seconds| Input tokens: 3,253 | Output tokens: 247]</span>\n",
              "</pre>\n"
            ],
            "text/plain": [
              "\u001b[2m[Step 2: Duration 2.87 seconds| Input tokens: 3,253 | Output tokens: 247]\u001b[0m\n"
            ]
          },
          "metadata": {},
          "output_type": "display_data"
        },
        {
          "data": {
            "text/plain": [
              "'Based on the search results, here are some music recommendations for a party at Wayne\\'s mansion:\\n\\n1. **Bohemian Rhapsody** - Queen (From \"Wayne\\'s World\")\\n2. **The Way You Move** - OutKast\\n3. **Bad Boys** - Inner Circle\\n4. **Party Rock Anthem** - LMFAO\\n5. **Three Little Birds** - Ziggy Marley and Sean Paul\\n6. **Feel So Close** - LMFAO\\n7. **Dream Weaver** - TMC Movie Tunez\\n8. **Highway to Hell** - AC/DC\\n9. **Material Magic** - Fountains of Wayne\\n10. **Would I Know You** - Fountains of Wayne\\n\\nThese tracks should capture the spirit of a fun, rock\\'n\\'roll party reminiscent of Wayne\\'s World.'"
            ]
          },
          "execution_count": 2,
          "metadata": {},
          "output_type": "execute_result"
        }
      ],
      "source": [
        "from smolagents import ToolCallingAgent, DuckDuckGoSearchTool, InferenceClientModel\n",
        "\n",
        "agent = ToolCallingAgent(tools=[DuckDuckGoSearchTool()], model=InferenceClientModel())\n",
        "\n",
        "agent.run(\"Search for the best music recommendations for a party at the Wayne's mansion.\")"
      ]
    },
    {
      "cell_type": "markdown",
      "metadata": {
        "id": "Cl19VWGRYXrr"
      },
      "source": [
        "\n",
        "When you examine the agent's trace, instead of seeing `Executing parsed code:`, you'll see something like:\n",
        "\n",
        "```text\n",
        "╭─────────────────────────────────────────────────────────────────────────────────────────────────────────────────╮\n",
        "│ Calling tool: 'web_search' with arguments: {'query': \"best music recommendations for a party at Wayne's         │\n",
        "│ mansion\"}                                                                                                       │\n",
        "╰─────────────────────────────────────────────────────────────────────────────────────────────────────────────────╯\n",
        "```  \n",
        "\n",
        "The agent generates a structured tool call that the system processes to produce the output, rather than directly executing code like a `CodeAgent`.\n",
        "\n",
        "Now that we understand both agent types, we can choose the right one for our needs. Let's continue exploring `smolagents` to make Alfred's party a success! 🎉"
      ]
    }
  ],
  "metadata": {
    "colab": {
      "provenance": []
    },
    "kernelspec": {
      "display_name": "smolagents",
      "language": "python",
      "name": "smolagents"
    },
    "language_info": {
      "codemirror_mode": {
        "name": "ipython",
        "version": 3
      },
      "file_extension": ".py",
      "mimetype": "text/x-python",
      "name": "python",
      "nbconvert_exporter": "python",
      "pygments_lexer": "ipython3",
      "version": "3.11.9"
    }
  },
  "nbformat": 4,
  "nbformat_minor": 0
}
